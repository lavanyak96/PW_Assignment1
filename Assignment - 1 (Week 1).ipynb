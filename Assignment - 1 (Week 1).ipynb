{
 "cells": [
  {
   "cell_type": "markdown",
   "id": "be463b34",
   "metadata": {},
   "source": [
    "Q1. Create one variable containing following type of data:\n",
    "(i) string\n",
    "(ii) list\n",
    "(iii) float\n",
    "(iv) tuple"
   ]
  },
  {
   "cell_type": "code",
   "execution_count": null,
   "id": "ac49febc",
   "metadata": {},
   "outputs": [],
   "source": [
    "l = \"lav\""
   ]
  },
  {
   "cell_type": "code",
   "execution_count": null,
   "id": "488cc32d",
   "metadata": {},
   "outputs": [],
   "source": [
    "lst = ['asd',23,0.7,4+7j]"
   ]
  },
  {
   "cell_type": "code",
   "execution_count": null,
   "id": "53295cda",
   "metadata": {},
   "outputs": [],
   "source": [
    "k=0.42"
   ]
  },
  {
   "cell_type": "code",
   "execution_count": null,
   "id": "91e02a0d",
   "metadata": {},
   "outputs": [],
   "source": [
    "m=(\"micky\",\"mouse\")"
   ]
  },
  {
   "cell_type": "markdown",
   "id": "f7820120",
   "metadata": {},
   "source": [
    "Q2. Given are some following variables containing data:\n",
    "(i) var1 = ‘ ‘\n",
    "(ii) var2 = ‘[ DS , ML , Python]’\n",
    "(iii) var3 = [ ‘DS’ , ’ML’ , ‘Python’ ]\n",
    "(iv) var4 = 1'\n",
    "\n",
    "i - String, ii - String, iii - List, iv - int"
   ]
  },
  {
   "cell_type": "markdown",
   "id": "95dbcf95",
   "metadata": {},
   "source": [
    " "
   ]
  },
  {
   "cell_type": "markdown",
   "id": "71944fd3",
   "metadata": {},
   "source": [
    "Q3. Explain the use of the following operators using an example:\n",
    "(i) /\n",
    "(ii) %\n",
    "(iii) //\n",
    "(iv) **"
   ]
  },
  {
   "cell_type": "code",
   "execution_count": 12,
   "id": "e8e4dc74",
   "metadata": {},
   "outputs": [
    {
     "data": {
      "text/plain": [
       "5.0"
      ]
     },
     "execution_count": 12,
     "metadata": {},
     "output_type": "execute_result"
    }
   ],
   "source": [
    "#(i)\n",
    "\n",
    "25/5\n",
    "\n",
    "# / - It is a division operator and always returns a float value."
   ]
  },
  {
   "cell_type": "code",
   "execution_count": 13,
   "id": "4f3e042d",
   "metadata": {},
   "outputs": [
    {
     "data": {
      "text/plain": [
       "1"
      ]
     },
     "execution_count": 13,
     "metadata": {},
     "output_type": "execute_result"
    }
   ],
   "source": [
    "#(ii)\n",
    "\n",
    "33%4\n",
    "\n",
    "# % - It is modulo operator, which gives remainder as result."
   ]
  },
  {
   "cell_type": "code",
   "execution_count": 17,
   "id": "f7b4c6a4",
   "metadata": {},
   "outputs": [
    {
     "data": {
      "text/plain": [
       "1"
      ]
     },
     "execution_count": 17,
     "metadata": {},
     "output_type": "execute_result"
    }
   ],
   "source": [
    "#(iii)\n",
    "\n",
    "5//3\n",
    "\n",
    "# // - It also helps in division but only gives integer part as output."
   ]
  },
  {
   "cell_type": "code",
   "execution_count": 18,
   "id": "b8e555d1",
   "metadata": {},
   "outputs": [
    {
     "data": {
      "text/plain": [
       "8"
      ]
     },
     "execution_count": 18,
     "metadata": {},
     "output_type": "execute_result"
    }
   ],
   "source": [
    "#(iv)\n",
    "\n",
    "2**3\n",
    "\n",
    "# ** - helps in calculating the exponential of one number with another."
   ]
  },
  {
   "cell_type": "markdown",
   "id": "662e5587",
   "metadata": {},
   "source": [
    "Q4.Create a list of length 10 of your choice containing multiple types of data. Using for loop print the\n",
    "element and its data type."
   ]
  },
  {
   "cell_type": "code",
   "execution_count": 19,
   "id": "ae6819a2",
   "metadata": {},
   "outputs": [
    {
     "name": "stdout",
     "output_type": "stream",
     "text": [
      "1\n",
      "<class 'int'>\n",
      "2\n",
      "<class 'int'>\n",
      "4\n",
      "<class 'int'>\n",
      "0.5\n",
      "<class 'float'>\n",
      "9.0\n",
      "<class 'float'>\n",
      "lav\n",
      "<class 'str'>\n",
      "korr\n",
      "<class 'str'>\n",
      "(5+8j)\n",
      "<class 'complex'>\n"
     ]
    }
   ],
   "source": [
    "l = [1,2,4,0.5,9.0,\"lav\",\"korr\",5+8j]\n",
    "\n",
    "for i in l:\n",
    "    print(i)\n",
    "    print(type(i))"
   ]
  },
  {
   "cell_type": "markdown",
   "id": "72297854",
   "metadata": {},
   "source": [
    "Q5.Using a while loop, verify if the number A is purely divisible by number B and if so then how many\n",
    "times it can be divisible."
   ]
  },
  {
   "cell_type": "code",
   "execution_count": 35,
   "id": "87482bb1",
   "metadata": {},
   "outputs": [
    {
     "name": "stdout",
     "output_type": "stream",
     "text": [
      "4096\n",
      "8\n",
      "purely divisible\n",
      "Number of times it can be divisible 4\n"
     ]
    }
   ],
   "source": [
    "a=int(input())\n",
    "b=int(input())\n",
    "c=0\n",
    "\n",
    "while a%b == 0:\n",
    "    a=a/b\n",
    "    c += 1\n",
    "if a==1:\n",
    "    print(\"purely divisible\")\n",
    "    print(\"Number of times it can be divisible\",c)\n",
    "else:\n",
    "    print(\"not divisible\")"
   ]
  },
  {
   "cell_type": "markdown",
   "id": "45141740",
   "metadata": {},
   "source": [
    "Q6. Create a list containing 25 int type data. Using for loop and if-else condition print if the element is\n",
    "divisible by 3 or not."
   ]
  },
  {
   "cell_type": "code",
   "execution_count": 37,
   "id": "16697cc0",
   "metadata": {},
   "outputs": [
    {
     "data": {
      "text/plain": [
       "([3, 6, 9, 12, 15, 18, 21, 24],\n",
       " [1, 2, 4, 5, 7, 8, 10, 11, 13, 14, 16, 17, 19, 20, 22, 23, 25])"
      ]
     },
     "execution_count": 37,
     "metadata": {},
     "output_type": "execute_result"
    }
   ],
   "source": [
    "l= [1,2,3,4,5,6,7,8,9,10,11,12,13,14,15,16,17,18,19,20,21,22,23,24,25]\n",
    "lk=[]\n",
    "lk2=[]\n",
    "\n",
    "for i in l:\n",
    "    if i%3==0:\n",
    "        lk.append(i)\n",
    "    else:\n",
    "        lk2.append(i)\n",
    "        \n",
    "lk,lk2"
   ]
  },
  {
   "cell_type": "markdown",
   "id": "6a7d8b0c",
   "metadata": {},
   "source": [
    "Q7. What do you understand about mutable and immutable data types? Give examples for both showing\n",
    "this property."
   ]
  },
  {
   "cell_type": "markdown",
   "id": "1d769d21",
   "metadata": {},
   "source": [
    "**Mutability** refers to the capability of an object to be changed or modified after its creation.\n",
    "**Immutability** means, you can’t change the object’s state after you’ve created it."
   ]
  },
  {
   "cell_type": "markdown",
   "id": "8a8df45e",
   "metadata": {},
   "source": [
    "Mutable Data types - List, Sets, and Dictionary are examples of some mutable data types in Python. "
   ]
  },
  {
   "cell_type": "code",
   "execution_count": 48,
   "id": "c9a607c3",
   "metadata": {},
   "outputs": [
    {
     "name": "stdout",
     "output_type": "stream",
     "text": [
      "[9, 4, 'sri', 'winnie']\n",
      "{'rank1': 'one', 'rank2': 'two', 'rank3': 'three'}\n",
      "{'rank1': 'one', 'rank2': 'two', 'rank3': 'three'}\n",
      "{1, 2, 3, 4}\n",
      "{1, 2, 3, 4}\n"
     ]
    }
   ],
   "source": [
    "#list\n",
    "\n",
    "lst = [9,4,\"sri\"]\n",
    "\n",
    "lst.append(\"winnie\")\n",
    "\n",
    "print(lst)\n",
    "\n",
    "#dict\n",
    "\n",
    "dict1 = {\"rank1\":\"one\",\"rank2\":\"two\"}\n",
    "new_dict = dict1\n",
    "\n",
    "new_dict[\"rank3\"]=\"three\"\n",
    "\n",
    "print(new_dict)\n",
    "print(dict1)\n",
    "\n",
    "#set\n",
    "\n",
    "my_set = {1, 2, 3}\n",
    "new_set = my_set\n",
    "new_set.add(4)\n",
    " \n",
    "print(my_set)   \n",
    "print(new_set)"
   ]
  },
  {
   "cell_type": "markdown",
   "id": "f19118d4",
   "metadata": {},
   "source": [
    "Immutable data types - Tuples, String"
   ]
  },
  {
   "cell_type": "code",
   "execution_count": 50,
   "id": "9a5f3f14",
   "metadata": {},
   "outputs": [
    {
     "ename": "TypeError",
     "evalue": "'tuple' object does not support item assignment",
     "output_type": "error",
     "traceback": [
      "\u001b[1;31m---------------------------------------------------------------------------\u001b[0m",
      "\u001b[1;31mTypeError\u001b[0m                                 Traceback (most recent call last)",
      "\u001b[1;32m~\\AppData\\Local\\Temp\\ipykernel_3604\\3368030489.py\u001b[0m in \u001b[0;36m<module>\u001b[1;34m\u001b[0m\n\u001b[0;32m      2\u001b[0m \u001b[1;33m\u001b[0m\u001b[0m\n\u001b[0;32m      3\u001b[0m \u001b[0mtuple1\u001b[0m \u001b[1;33m=\u001b[0m \u001b[1;33m(\u001b[0m\u001b[1;36m0\u001b[0m\u001b[1;33m,\u001b[0m \u001b[1;36m1\u001b[0m\u001b[1;33m,\u001b[0m \u001b[1;36m2\u001b[0m\u001b[1;33m,\u001b[0m \u001b[1;36m3\u001b[0m\u001b[1;33m)\u001b[0m\u001b[1;33m\u001b[0m\u001b[1;33m\u001b[0m\u001b[0m\n\u001b[1;32m----> 4\u001b[1;33m \u001b[0mtuple1\u001b[0m\u001b[1;33m[\u001b[0m\u001b[1;36m0\u001b[0m\u001b[1;33m]\u001b[0m \u001b[1;33m=\u001b[0m \u001b[1;36m4\u001b[0m\u001b[1;33m\u001b[0m\u001b[1;33m\u001b[0m\u001b[0m\n\u001b[0m\u001b[0;32m      5\u001b[0m \u001b[0mprint\u001b[0m\u001b[1;33m(\u001b[0m\u001b[0mtuple1\u001b[0m\u001b[1;33m)\u001b[0m\u001b[1;33m\u001b[0m\u001b[1;33m\u001b[0m\u001b[0m\n\u001b[0;32m      6\u001b[0m \u001b[1;33m\u001b[0m\u001b[0m\n",
      "\u001b[1;31mTypeError\u001b[0m: 'tuple' object does not support item assignment"
     ]
    }
   ],
   "source": [
    "#tuples\n",
    "\n",
    "tuple1 = (0, 1, 2, 3)\n",
    "tuple1[0] = 4\n",
    "print(tuple1)\n",
    "\n",
    "#string\n",
    "\n",
    "message = \"Welcome to world !\"\n",
    "message[0] = 'p'\n",
    "print(message)"
   ]
  },
  {
   "cell_type": "code",
   "execution_count": null,
   "id": "d1d1f2fb",
   "metadata": {},
   "outputs": [],
   "source": []
  },
  {
   "cell_type": "code",
   "execution_count": null,
   "id": "2eee1846",
   "metadata": {},
   "outputs": [],
   "source": []
  },
  {
   "cell_type": "code",
   "execution_count": null,
   "id": "4614ee8d",
   "metadata": {},
   "outputs": [],
   "source": []
  },
  {
   "cell_type": "code",
   "execution_count": null,
   "id": "138a08ce",
   "metadata": {},
   "outputs": [],
   "source": []
  },
  {
   "cell_type": "code",
   "execution_count": null,
   "id": "8d099305",
   "metadata": {},
   "outputs": [],
   "source": []
  },
  {
   "cell_type": "code",
   "execution_count": null,
   "id": "3fd9a8c8",
   "metadata": {},
   "outputs": [],
   "source": []
  },
  {
   "cell_type": "code",
   "execution_count": null,
   "id": "49242787",
   "metadata": {},
   "outputs": [],
   "source": []
  },
  {
   "cell_type": "code",
   "execution_count": null,
   "id": "2ded9491",
   "metadata": {},
   "outputs": [],
   "source": []
  },
  {
   "cell_type": "code",
   "execution_count": null,
   "id": "c75fca8a",
   "metadata": {},
   "outputs": [],
   "source": []
  },
  {
   "cell_type": "code",
   "execution_count": null,
   "id": "ca0b5fc9",
   "metadata": {},
   "outputs": [],
   "source": []
  },
  {
   "cell_type": "code",
   "execution_count": null,
   "id": "cf5315df",
   "metadata": {},
   "outputs": [],
   "source": []
  },
  {
   "cell_type": "code",
   "execution_count": null,
   "id": "fbce153e",
   "metadata": {},
   "outputs": [],
   "source": []
  },
  {
   "cell_type": "code",
   "execution_count": null,
   "id": "d0f95be9",
   "metadata": {},
   "outputs": [],
   "source": []
  },
  {
   "cell_type": "code",
   "execution_count": null,
   "id": "b8d1e2a5",
   "metadata": {},
   "outputs": [],
   "source": []
  },
  {
   "cell_type": "code",
   "execution_count": null,
   "id": "796f3467",
   "metadata": {},
   "outputs": [],
   "source": []
  },
  {
   "cell_type": "code",
   "execution_count": null,
   "id": "340e6bef",
   "metadata": {},
   "outputs": [],
   "source": []
  },
  {
   "cell_type": "code",
   "execution_count": null,
   "id": "a8baf9b4",
   "metadata": {},
   "outputs": [],
   "source": []
  },
  {
   "cell_type": "code",
   "execution_count": null,
   "id": "876ad7ef",
   "metadata": {},
   "outputs": [],
   "source": []
  },
  {
   "cell_type": "code",
   "execution_count": null,
   "id": "0cb5b81d",
   "metadata": {},
   "outputs": [],
   "source": []
  },
  {
   "cell_type": "code",
   "execution_count": null,
   "id": "b15de917",
   "metadata": {},
   "outputs": [],
   "source": []
  },
  {
   "cell_type": "code",
   "execution_count": null,
   "id": "c27b6a36",
   "metadata": {},
   "outputs": [],
   "source": []
  },
  {
   "cell_type": "code",
   "execution_count": null,
   "id": "fdceb8e6",
   "metadata": {},
   "outputs": [],
   "source": []
  }
 ],
 "metadata": {
  "kernelspec": {
   "display_name": "Python 3 (ipykernel)",
   "language": "python",
   "name": "python3"
  },
  "language_info": {
   "codemirror_mode": {
    "name": "ipython",
    "version": 3
   },
   "file_extension": ".py",
   "mimetype": "text/x-python",
   "name": "python",
   "nbconvert_exporter": "python",
   "pygments_lexer": "ipython3",
   "version": "3.9.13"
  }
 },
 "nbformat": 4,
 "nbformat_minor": 5
}
